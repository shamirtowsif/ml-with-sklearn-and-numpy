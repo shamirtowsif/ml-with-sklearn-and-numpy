{
  "nbformat": 4,
  "nbformat_minor": 0,
  "metadata": {
    "colab": {
      "provenance": []
    },
    "kernelspec": {
      "name": "python3",
      "display_name": "Python 3"
    },
    "language_info": {
      "name": "python"
    }
  },
  "cells": [
    {
      "cell_type": "code",
      "execution_count": null,
      "metadata": {
        "colab": {
          "base_uri": "https://localhost:8080/"
        },
        "id": "O7qmE3GDnnsY",
        "outputId": "1ca35898-f7ae-45b8-98b7-d05d0e72c3d0"
      },
      "outputs": [
        {
          "output_type": "stream",
          "name": "stdout",
          "text": [
            "Accuracy: 1.0\n"
          ]
        }
      ],
      "source": [
        "from sklearn.svm import SVC\n",
        "import numpy as np\n",
        "\n",
        "X = np.array([\n",
        "    [2, 3],\n",
        "    [1, 1],\n",
        "    [2, 1],\n",
        "    [4, 5],\n",
        "    [5, 4],\n",
        "    [6, 6]\n",
        "])\n",
        "\n",
        "y = np.array([-1, -1, -1, 1, 1, 1])\n",
        "\n",
        "model = SVC(kernel=\"linear\")\n",
        "model.fit(X, y)\n",
        "\n",
        "predictions = model.predict(X)\n",
        "\n",
        "def accuracy(y_true, y_pred):\n",
        "    accuracy = np.mean(y_true == y_pred)\n",
        "    return accuracy\n",
        "acc = accuracy(y, predictions)\n",
        "print(\"Accuracy:\", acc)"
      ]
    },
    {
      "cell_type": "code",
      "source": [
        "import numpy as np\n",
        "\n",
        "class SVM:\n",
        "  def __init__(self, learning_rate=0.001, C=0.01, n_iters=1000):\n",
        "    self.lr = learning_rate\n",
        "    self.C = C\n",
        "    self.n_iters = n_iters\n",
        "    self.w = None\n",
        "    self.b = None\n",
        "\n",
        "  def fit(self, X, y):\n",
        "    n_samples, n_features = X.shape\n",
        "\n",
        "    self.w = np.zeros(n_features)\n",
        "    self.b = 0\n",
        "\n",
        "    for _ in range(self.n_iters):\n",
        "      for idx, x_i in enumerate(X):\n",
        "        condition = y[idx] * (np.dot(x_i, self.w) - self.b) >= 1\n",
        "        # print(\"condition: \", condition)\n",
        "\n",
        "        if condition:\n",
        "          # print(\"dw: \", 2 * self.lambda_param * self.w)\n",
        "          # print(\"db: \", 0)\n",
        "          # print(\"pw: \", self.w)\n",
        "          # print(\"pb: \", self.b)\n",
        "          self.w -= self.lr * (2 * self.C * self.w)\n",
        "          # print(\"nw: \", self.w)\n",
        "          # print(\"nb: \", self.b)\n",
        "        else:\n",
        "          # print((2 * self.lambda_param * self.w))\n",
        "          # print(np.dot(x_i, y[idx]))\n",
        "          # print(\"dw: \", (2 * self.lambda_param * self.w) - np.dot(x_i, y[idx]))\n",
        "          # print(\"db: \", y[idx])\n",
        "          # print(\"pw: \", self.w)\n",
        "          # print(\"pb: \", self.b)\n",
        "          self.w -= self.lr * (2 * self.C * self.w - np.dot(x_i, y[idx]))\n",
        "          self.b -= self.lr * y[idx]\n",
        "          # print(\"nw: \", self.w)\n",
        "          # print(\"nb: \", self.b)\n",
        "\n",
        "  def predict(self, X):\n",
        "    approx = np.dot(X, self.w) - self.b\n",
        "    return np.sign(approx)\n",
        "\n",
        "X = np.array([\n",
        "    [2, 3],\n",
        "    [1, 1],\n",
        "    [2, 1],\n",
        "    [4, 5],\n",
        "    [5, 4],\n",
        "    [6, 6]\n",
        "])\n",
        "\n",
        "y = np.array([-1, -1, -1, 1, 1, 1])\n",
        "\n",
        "model = SVM(learning_rate=0.01, C=0.01, n_iters=100)\n",
        "model.fit(X, y)\n",
        "\n",
        "predictions = model.predict(X)\n",
        "\n",
        "def accuracy(y_true, y_pred):\n",
        "    accuracy = np.mean(y_true == y_pred)\n",
        "    return accuracy\n",
        "acc = accuracy(y, predictions)\n",
        "print(\"Accuracy:\", acc)"
      ],
      "metadata": {
        "colab": {
          "base_uri": "https://localhost:8080/"
        },
        "id": "c_Qfamvofbir",
        "outputId": "76c6bdba-291b-418e-f519-3f21939af4d5"
      },
      "execution_count": null,
      "outputs": [
        {
          "output_type": "stream",
          "name": "stdout",
          "text": [
            "Accuracy: 0.8333333333333334\n"
          ]
        }
      ]
    }
  ]
}