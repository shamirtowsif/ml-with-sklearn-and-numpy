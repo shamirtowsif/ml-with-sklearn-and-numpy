{
  "nbformat": 4,
  "nbformat_minor": 0,
  "metadata": {
    "colab": {
      "provenance": []
    },
    "kernelspec": {
      "name": "python3",
      "display_name": "Python 3"
    },
    "language_info": {
      "name": "python"
    }
  },
  "cells": [
    {
      "cell_type": "code",
      "execution_count": 1,
      "metadata": {
        "colab": {
          "base_uri": "https://localhost:8080/"
        },
        "id": "1cPyC83VCXVs",
        "outputId": "5adad3e7-a736-4c57-a607-0b6a9a0536cf"
      },
      "outputs": [
        {
          "output_type": "stream",
          "name": "stdout",
          "text": [
            "Weights: [[1.99937957]\n",
            " [1.00009146]]\n",
            "Weights shape: (2, 1)\n",
            "Predictions: [[11.00020269]\n",
            " [ 3.99956248]]\n",
            "Predictions:     0\n",
            "8  11\n",
            "1   4\n"
          ]
        }
      ],
      "source": [
        "import numpy as np\n",
        "import pandas as pd\n",
        "from sklearn.model_selection import train_test_split\n",
        "\n",
        "X = np.array([1, 2, 3, 4, 5, 6, 7, 8, 9, 10]).reshape(-1, 1)\n",
        "\n",
        "# Generate the column of ones\n",
        "ones_column = np.ones((10, 1))\n",
        "\n",
        "# Add the ones column at the beginning of X\n",
        "X = np.hstack((ones_column, X))\n",
        "\n",
        "X = pd.DataFrame(X)\n",
        "\n",
        "true_weight = np.array([10, 42]).reshape(-1, 1)\n",
        "\n",
        "y = np.array([3, 4, 5, 6, 7, 8, 9, 10, 11, 12]).reshape(-1, 1)\n",
        "\n",
        "y = pd.DataFrame(y)\n",
        "\n",
        "x_train, x_test, y_train, y_test = train_test_split(X, y, test_size=0.2, random_state=42)\n",
        "\n",
        "\n",
        "\n",
        "class LinearRegression:\n",
        "    def __init__(self, lr = 0.01, n_iters = 1000):\n",
        "        self.lr = lr\n",
        "        self.n_iters = n_iters\n",
        "        self.weights = None\n",
        "\n",
        "    def fit(self, X, y):\n",
        "        num_samples, num_features = X.shape\n",
        "        self.weights = np.random.rand(num_features, 1)\n",
        "\n",
        "        for i in range(self.n_iters):\n",
        "            y_pred = np.dot(X, self.weights)\n",
        "            dw = np.divide(np.dot(X.T, np.subtract(y_pred, y)), 2)\n",
        "\n",
        "            self.weights = np.subtract(self.weights, np.multiply(self.lr, dw))\n",
        "\n",
        "        return self\n",
        "\n",
        "    def predict(self, X):\n",
        "        return np.dot(X, self.weights)\n",
        "\n",
        "\n",
        "model = LinearRegression(lr=0.01, n_iters=1000)\n",
        "model.fit(x_train, y_train)\n",
        "\n",
        "print(\"Weights:\", model.weights)\n",
        "print(\"Weights shape:\", model.weights.shape)\n",
        "predictions = model.predict(x_test)\n",
        "\n",
        "print(\"Predictions:\", predictions)\n",
        "print(\"Predictions:\", y_test)"
      ]
    },
    {
      "cell_type": "code",
      "source": [
        "import numpy as np\n",
        "import pandas as pd\n",
        "from sklearn.model_selection import train_test_split\n",
        "\n",
        "# Input data\n",
        "X = np.array([1, 2, 3, 4, 5, 6, 7, 8, 9, 10]).reshape(-1, 1)\n",
        "ones_column = np.ones((10, 1))\n",
        "X = np.hstack((ones_column, X))\n",
        "X = pd.DataFrame(X)\n",
        "\n",
        "# Labels, transformed to binary values for logistic regression\n",
        "y = np.array([0, 0, 0, 0, 1, 1, 1, 1, 1, 1]).reshape(-1, 1)\n",
        "y = pd.DataFrame(y)\n",
        "\n",
        "# Split data\n",
        "x_train, x_test, y_train, y_test = train_test_split(X, y, test_size=0.2, random_state=42)\n",
        "\n",
        "# Logistic Regression class\n",
        "class LogisticRegression:\n",
        "    def __init__(self, lr=0.01, n_iters=1000):\n",
        "        self.lr = lr\n",
        "        self.n_iters = n_iters\n",
        "        self.weights = None\n",
        "\n",
        "    def sigmoid(self, z):\n",
        "        return np.divide(1, np.add(1, np.exp(-z)))\n",
        "\n",
        "    def fit(self, X, y):\n",
        "        num_samples, num_features = X.shape\n",
        "        self.weights = np.random.rand(num_features, 1)\n",
        "\n",
        "        for i in range(self.n_iters):\n",
        "            # Calculate predictions\n",
        "            linear_model = np.dot(X, self.weights)\n",
        "            y_pred = self.sigmoid(linear_model)\n",
        "\n",
        "            # Compute gradients\n",
        "            dw = np.divide(np.dot(X.T, (np.subtract(y_pred, y))), 2)\n",
        "\n",
        "            # Update weights\n",
        "            self.weights = np.subtract(self.weights, np.multiply(self.lr, dw))\n",
        "\n",
        "        return self\n",
        "\n",
        "    def predict(self, X):\n",
        "        linear_model = np.dot(X, self.weights)\n",
        "        y_pred = self.sigmoid(linear_model)\n",
        "        return np.where(y_pred >= 0.5, 1, 0)\n",
        "\n",
        "# Instantiate and train the model\n",
        "model = LogisticRegression(lr=0.01, n_iters=1000)\n",
        "model.fit(x_train, y_train)\n",
        "\n",
        "# Print weights and predictions\n",
        "print(\"Weights:\", model.weights)\n",
        "print(\"Weights shape:\", model.weights.shape)\n",
        "predictions = model.predict(x_test)\n",
        "\n",
        "print(\"Predictions:\", predictions)\n",
        "print(\"True Labels:\", y_test.values)"
      ],
      "metadata": {
        "colab": {
          "base_uri": "https://localhost:8080/"
        },
        "id": "zeDCm0f5CbdX",
        "outputId": "696dde85-cbad-49c2-9f96-71b425fdd609"
      },
      "execution_count": 2,
      "outputs": [
        {
          "output_type": "stream",
          "name": "stdout",
          "text": [
            "Weights: [[-3.0165192 ]\n",
            " [ 0.78340273]]\n",
            "Weights shape: (2, 1)\n",
            "Predictions: [[1]\n",
            " [0]]\n",
            "True Labels: [[1]\n",
            " [0]]\n"
          ]
        }
      ]
    },
    {
      "cell_type": "code",
      "source": [
        "import numpy as np\n",
        "import pandas as pd\n",
        "from sklearn.model_selection import train_test_split\n",
        "from sklearn.linear_model import LinearRegression\n",
        "\n",
        "# Input data\n",
        "X = np.array([1, 2, 3, 4, 5, 6, 7, 8, 9, 10]).reshape(-1, 1)\n",
        "ones_column = np.ones((10, 1))\n",
        "X = np.hstack((ones_column, X))\n",
        "X = pd.DataFrame(X)\n",
        "\n",
        "# Labels, transformed to binary values for logistic regression\n",
        "y = np.array([3, 4, 5, 6, 7, 8, 9, 10, 11, 12]).reshape(-1, 1)\n",
        "y = pd.DataFrame(y)\n",
        "\n",
        "# Split data\n",
        "x_train, x_test, y_train, y_test = train_test_split(X, y, test_size=0.2, random_state=42)\n",
        "\n",
        "# Instantiate and train the model\n",
        "model = LinearRegression()\n",
        "model.fit(x_train, y_train)\n",
        "\n",
        "# Print predictions\n",
        "predictions = model.predict(x_test)\n",
        "\n",
        "print(model.coef_)\n",
        "print(model.intercept_)\n",
        "\n",
        "print(\"Predictions:\", predictions)\n",
        "print(\"True Labels:\", y_test.values)\n"
      ],
      "metadata": {
        "colab": {
          "base_uri": "https://localhost:8080/"
        },
        "id": "rERaPFOaK_T4",
        "outputId": "c726de33-6f32-4163-a061-9567a4473b29"
      },
      "execution_count": 3,
      "outputs": [
        {
          "output_type": "stream",
          "name": "stdout",
          "text": [
            "[[0. 1.]]\n",
            "[2.]\n",
            "Predictions: [[11.]\n",
            " [ 4.]]\n",
            "True Labels: [[11]\n",
            " [ 4]]\n"
          ]
        }
      ]
    },
    {
      "cell_type": "code",
      "source": [
        "import numpy as np\n",
        "import pandas as pd\n",
        "from sklearn.model_selection import train_test_split\n",
        "from sklearn.linear_model import LogisticRegression\n",
        "\n",
        "# Input data\n",
        "X = np.array([1, 2, 3, 4, 5, 6, 7, 8, 9, 10]).reshape(-1, 1)\n",
        "ones_column = np.ones((10, 1))\n",
        "X = np.hstack((ones_column, X))\n",
        "X = pd.DataFrame(X)\n",
        "\n",
        "# Labels, transformed to binary values for logistic regression\n",
        "y = np.array([0, 0, 0, 0, 1, 1, 1, 1, 1, 1]).reshape(-1, 1)\n",
        "y = pd.DataFrame(y)\n",
        "\n",
        "# Split data\n",
        "x_train, x_test, y_train, y_test = train_test_split(X, y, test_size=0.2, random_state=42)\n",
        "\n",
        "# Logistic Regression class\n",
        "model = LogisticRegression()\n",
        "\n",
        "# Instantiate and train the model\n",
        "model = LogisticRegression()\n",
        "model.fit(x_train, y_train.values.ravel())\n",
        "\n",
        "# Print predictions\n",
        "predictions = model.predict(x_test)\n",
        "\n",
        "print(model.coef_)\n",
        "print(model.intercept_)\n",
        "\n",
        "print(\"Predictions:\", predictions)\n",
        "print(\"True Labels:\", y_test.values)\n",
        "\n",
        "# print(type(y_train))\n",
        "# print(type(y_train.values.ravel()))\n",
        "# print()"
      ],
      "metadata": {
        "colab": {
          "base_uri": "https://localhost:8080/"
        },
        "id": "HR-eNz0sMSCK",
        "outputId": "8c7803b8-6ad6-40c2-e4d0-869afcda2a48"
      },
      "execution_count": 9,
      "outputs": [
        {
          "output_type": "stream",
          "name": "stdout",
          "text": [
            "[[5.99478382e-06 1.11875615e+00]]\n",
            "[-4.96177841]\n",
            "Predictions: [1 0]\n",
            "True Labels: [[1]\n",
            " [0]]\n"
          ]
        }
      ]
    }
  ]
}