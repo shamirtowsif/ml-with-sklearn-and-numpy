{
  "nbformat": 4,
  "nbformat_minor": 0,
  "metadata": {
    "colab": {
      "provenance": []
    },
    "kernelspec": {
      "name": "python3",
      "display_name": "Python 3"
    },
    "language_info": {
      "name": "python"
    }
  },
  "cells": [
    {
      "cell_type": "code",
      "execution_count": null,
      "metadata": {
        "colab": {
          "base_uri": "https://localhost:8080/"
        },
        "id": "mGayzBmtq4zt",
        "outputId": "f07ecca4-5170-4e89-c37a-067e9718c373"
      },
      "outputs": [
        {
          "output_type": "stream",
          "name": "stdout",
          "text": [
            "[[-4.99953747 -0.06800833]\n",
            " [-2.20523715  0.37003933]\n",
            " [-0.58906316 -0.80808699]\n",
            " [ 0.58906316  0.80808699]\n",
            " [ 2.20523715 -0.37003933]\n",
            " [ 4.99953747  0.06800833]]\n"
          ]
        }
      ],
      "source": [
        "import numpy as np\n",
        "from sklearn.decomposition import PCA\n",
        "\n",
        "X = np.array([[126, 78],\n",
        "     [128, 80],\n",
        "     [128, 82],\n",
        "     [130, 82],\n",
        "     [130, 84],\n",
        "     [132, 86]])\n",
        "\n",
        "\n",
        "# Initialize PCA to reduce to 2 components\n",
        "pca = PCA()\n",
        "\n",
        "# Fit and transform the scaled data\n",
        "X_projected = pca.fit_transform(X)\n",
        "\n",
        "print(X_projected)"
      ]
    },
    {
      "cell_type": "markdown",
      "source": [
        "**Input:** Dataset `X` with `n_samples` and `n_features`\n",
        "\n",
        "**Output:** Transformed dataset `X_projected` with reduced dimensions\n",
        "\n",
        "---\n",
        "\n",
        "**Class:** `PCA`\n",
        "1. **Initialize:**\n",
        "   - Set `components` to `None`\n",
        "   - Set `mean` to `None`\n",
        "\n",
        "---\n",
        "\n",
        "**Method:** `fit_transform(X)`\n",
        "1. **Mean Centering:**\n",
        "   - Calculate the mean of each feature:\n",
        "     \\[\n",
        "     \\text{mean} = \\text{mean of } X \\text{ along axis 0}\n",
        "     \\]\n",
        "   - Subtract the mean from each sample in `X` to center the data.\n",
        "\n",
        "2. **Compute Covariance Matrix:**\n",
        "   - Calculate the covariance matrix of the mean-centered `X`:\n",
        "     \\[\n",
        "     \\text{covariance matrix} = \\text{np.cov}(X^T, \\text{ddof}=1)\n",
        "     \\]\n",
        "\n",
        "3. **Compute Eigenvalues and Eigenvectors:**\n",
        "   - Use linear algebra to compute eigenvalues and eigenvectors of the covariance matrix:\n",
        "     \\[\n",
        "     \\text{eigenvalues}, \\text{eigenvectors} = \\text{np.linalg.eig}(\\text{covariance matrix})\n",
        "     \\]\n",
        "\n",
        "4. **Sort Eigenvalues and Eigenvectors:**\n",
        "   - Sort the eigenvalues in descending order, along with their corresponding eigenvectors:\n",
        "     - Get sorted indices of eigenvalues:\n",
        "       \\[\n",
        "       \\text{sorted indices} = \\text{np.argsort(eigenvalues)}[::-1]\n",
        "       \\]\n",
        "     - Reorder eigenvalues and eigenvectors using these indices.\n",
        "\n",
        "5. **Transform Data:**\n",
        "   - Project the mean-centered data onto the sorted eigenvectors:\n",
        "     \\[\n",
        "     X_{\\text{projected}} = X \\cdot \\text{eigenvectors}^T\n",
        "     \\]\n",
        "\n",
        "6. **Return Transformed Data:**\n",
        "   - Return `X_projected`\n",
        "\n",
        "---\n",
        "\n",
        "**Main Execution:**\n",
        "1. Define input dataset `X` with `n_samples` and `n_features`.\n",
        "2. Create an instance of the `PCA` class.\n",
        "3. Call the `fit_transform` method on the dataset to get the transformed dataset `X_projected`.\n",
        "4. Print or visualize the transformed dataset.\n",
        "\n",
        "---\n",
        "\n",
        "**Notes:**\n",
        "- The covariance matrix captures the relationships between features.\n",
        "- Eigenvalues represent the amount of variance captured by each principal component.\n",
        "- Eigenvectors define the directions of the principal components.\n"
      ],
      "metadata": {
        "id": "CcQlU3dxOQ46"
      }
    },
    {
      "cell_type": "code",
      "source": [
        "import numpy as np\n",
        "\n",
        "class PCA:\n",
        "  def __init__(self) :\n",
        "    # self.n_components = n_components\n",
        "    self.components = 1\n",
        "    self.mean = None\n",
        "\n",
        "  def fit_transform(self, X):\n",
        "    # mean centering\n",
        "    self.mean = np.mean(X, axis=0)\n",
        "\n",
        "    # print(self.mean)\n",
        "    X = X - self.mean\n",
        "\n",
        "    # print(X)\n",
        "\n",
        "    # covariance, function needs the samples as columns\n",
        "    cov = np.cov(X.T, ddof=1)\n",
        "\n",
        "    # print(cov)\n",
        "\n",
        "    # eigenvectors, eigenvalues\n",
        "    eigenvalues, eigenvectors  = np.linalg.eig(cov)\n",
        "\n",
        "    # print(eigenvectors)\n",
        "    # print(eigenvalues)\n",
        "\n",
        "    #eigenvectors v = [:, i] column vector, transpose this for easier caclulations\n",
        "    # eigenvalues = eigenvalues.T\n",
        "    # print(\"eigenvalues\")\n",
        "    # print(eigenvalues)\n",
        "    # # sort eigenvectors\n",
        "    idxs = np.argsort(eigenvalues)[::-1]\n",
        "    # print(idxs)\n",
        "    eigenvalues = eigenvalues[idxs]\n",
        "    eigenvectors = eigenvectors[:, idxs]\n",
        "\n",
        "    # print(eigenvectors)\n",
        "    # print(\"eigenvalues\")\n",
        "    # print(eigenvalues)\n",
        "    X_projected = np.dot(X, eigenvectors.T)\n",
        "    # print(X_projected)\n",
        "    new_array = []\n",
        "    for x in X_projected:\n",
        "        new_array.append(x[:self.components])\n",
        "    X_projected = np.array(new_array)\n",
        "    # print(X_projected)\n",
        "    return X_projected\n",
        "\n",
        "import matplotlib.pyplot as plt\n",
        "from sklearn import datasets\n",
        "\n",
        "X = np.array([[126, 78],\n",
        "     [128, 80],\n",
        "     [128, 82],\n",
        "     [130, 82],\n",
        "     [130, 84],\n",
        "     [132, 86]])\n",
        "# y = data.target\n",
        "\n",
        "pca = PCA()\n",
        "X_projected = pca.fit_transform(X)\n",
        "# X_projected = pca.transform(X)\n",
        "\n",
        "print(X_projected)\n",
        "\n",
        "print(\"shape of X:\", X.shape)\n",
        "print(\"shape of transformed X:\", X_projected.shape)"
      ],
      "metadata": {
        "colab": {
          "base_uri": "https://localhost:8080/"
        },
        "id": "4bdfkTK9JOYJ",
        "outputId": "9037bd7d-4ac9-4ff4-c5f2-40393adeaac2"
      },
      "execution_count": null,
      "outputs": [
        {
          "output_type": "stream",
          "name": "stdout",
          "text": [
            "[[ 4.99953747]\n",
            " [ 2.20523715]\n",
            " [ 0.58906316]\n",
            " [-0.58906316]\n",
            " [-2.20523715]\n",
            " [-4.99953747]]\n",
            "shape of X: (6, 2)\n",
            "shape of transformed X: (6, 1)\n"
          ]
        }
      ]
    }
  ]
}