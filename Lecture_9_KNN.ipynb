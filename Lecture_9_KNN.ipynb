{
  "nbformat": 4,
  "nbformat_minor": 0,
  "metadata": {
    "colab": {
      "provenance": []
    },
    "kernelspec": {
      "name": "python3",
      "display_name": "Python 3"
    },
    "language_info": {
      "name": "python"
    }
  },
  "cells": [
    {
      "cell_type": "code",
      "execution_count": null,
      "metadata": {
        "colab": {
          "base_uri": "https://localhost:8080/"
        },
        "id": "s7Uw_j_0ZYAC",
        "outputId": "defac8b2-2b1e-470f-d8b9-4616c2fe2b1a"
      },
      "outputs": [
        {
          "output_type": "stream",
          "name": "stdout",
          "text": [
            "0.6\n"
          ]
        }
      ],
      "source": [
        "from sklearn.neighbors import KNeighborsClassifier\n",
        "import numpy as np\n",
        "\n",
        "X = np.array([[1, 2],\n",
        "              [2, 3],\n",
        "              [3, 4],\n",
        "              [4, 5],\n",
        "              [5, 6]])\n",
        "y = np.array([1, 1, 0, 0, 0])\n",
        "\n",
        "knn_clf = KNeighborsClassifier(n_neighbors=5, metric='euclidean')\n",
        "\n",
        "knn_clf.fit(X, y)\n",
        "\n",
        "y_pred = knn_clf.predict(X)\n",
        "\n",
        "def accuracy(y_test, y_pred):\n",
        "  return np.mean(y_test == y_pred)\n",
        "\n",
        "acc = accuracy(y, y_pred)\n",
        "print(acc)"
      ]
    },
    {
      "cell_type": "markdown",
      "source": [
        "# KNN Pseudocode\n",
        "\n",
        "## Class: `KNN`\n",
        "\n",
        "### Attributes:\n",
        "- `k`: Number of nearest neighbors to consider.\n",
        "- `X_train`: Training data features.\n",
        "- `y_train`: Training data labels.\n",
        "\n",
        "---\n",
        "\n",
        "## Methods:\n",
        "\n",
        "### `__init__(k=3)`\n",
        "**Purpose:** Initialize the KNN model with the specified number of neighbors.\n",
        "\n",
        "1. Set `self.k` to `k`.\n",
        "\n",
        "---\n",
        "\n",
        "### `fit(X, y)`\n",
        "**Purpose:** Store the training data features and labels.\n",
        "\n",
        "1. Set `self.X_train` to `X`.\n",
        "2. Set `self.y_train` to `y`.\n",
        "\n",
        "---\n",
        "\n",
        "### `predict(X)`\n",
        "**Purpose:** Predict labels for the input data `X`.\n",
        "\n",
        "1. For each sample `x` in `X`:\n",
        "   - Call `_predict(x)` to predict the label.\n",
        "2. Return the list of predictions.\n",
        "\n",
        "---\n",
        "\n",
        "### `_predict(x)`\n",
        "**Purpose:** Predict the label for a single sample `x`.\n",
        "\n",
        "1. Compute the distances between `x` and each training sample:\n",
        "   - For each training sample `x_train` in `self.X_train`:\n",
        "     - Compute the Euclidean distance between `x` and `x_train`.\n",
        "2. Identify the indices of the `k` closest samples:\n",
        "   - Sort the distances and take the indices of the first `k` samples.\n",
        "3. Retrieve the labels of the `k` nearest neighbors:\n",
        "   - Use the indices to get labels from `self.y_train`.\n",
        "4. Determine the most common label among the `k` neighbors:\n",
        "   - Call `_most_common_label(k_nearest_labels)` to find the majority label.\n",
        "5. Return the predicted label.\n",
        "\n",
        "---\n",
        "\n",
        "### `_most_common_label(y)`\n",
        "**Purpose:** Identify the most common label in a list of labels `y`.\n",
        "\n",
        "1. Count the occurrences of each unique label:\n",
        "   - Use `np.unique(y, return_counts=True)` to get unique labels and their counts.\n",
        "2. Return the label with the highest count.\n"
      ],
      "metadata": {
        "id": "jJ0DKQ1nxbtQ"
      }
    },
    {
      "cell_type": "code",
      "source": [
        "import numpy as np\n",
        "\n",
        "def euclidean_distance(x1, x2):\n",
        "  return np.sqrt(np.sum((x1-x2)**2))\n",
        "\n",
        "class KNN:\n",
        "  def __init__(self, k=3):\n",
        "    self.k = k\n",
        "\n",
        "  def fit(self, X, y):\n",
        "    self.X_train = X\n",
        "    self.y_train = y\n",
        "\n",
        "  def predict(self, X):\n",
        "    predictions = [self._predict(x) for x in X]\n",
        "    return predictions\n",
        "\n",
        "  def _predict(self, x):\n",
        "    distances = [euclidean_distance(x, x_train) for x_train in self.X_train]\n",
        "\n",
        "    k_indices = np.argsort(distances)[:self.k]\n",
        "    k_nearest_labels = [self.y_train[i] for i in k_indices]\n",
        "\n",
        "    return self._most_common_label(k_nearest_labels)\n",
        "\n",
        "  def _most_common_label(self, y):\n",
        "    unique_labels, counts = np.unique(y, return_counts=True)\n",
        "    return unique_labels[np.argmax(counts)]\n",
        "\n",
        "X = np.array([[1, 2],\n",
        "              [2, 3],\n",
        "              [3, 4],\n",
        "              [4, 5],\n",
        "              [5, 6]])\n",
        "y = np.array([1, 1, 0, 0, 0])\n",
        "\n",
        "\n",
        "clf = KNN(k=5)\n",
        "clf.fit(X, y)\n",
        "predictions = clf.predict(X)\n",
        "\n",
        "print(predictions)\n",
        "\n",
        "def accuracy(y_test, y_pred):\n",
        "  return np.mean(y_test == y_pred)\n",
        "\n",
        "acc = accuracy(y, predictions)\n",
        "print(acc)"
      ],
      "metadata": {
        "colab": {
          "base_uri": "https://localhost:8080/"
        },
        "id": "-vs6nRBFu198",
        "outputId": "27bc9d61-5de4-446f-da99-aee6efff9ba8"
      },
      "execution_count": null,
      "outputs": [
        {
          "output_type": "stream",
          "name": "stdout",
          "text": [
            "[0, 0, 0, 0, 0]\n",
            "0.6\n"
          ]
        }
      ]
    }
  ]
}